{
 "cells": [
  {
   "cell_type": "markdown",
   "id": "a1457aa8",
   "metadata": {},
   "source": [
    "# Problem\n",
    "\n",
    "Your task in order to complete this Kata is to write a function which formats a duration, given as a number of seconds, in a human-friendly way.\n",
    "\n",
    "The function must accept a non-negative integer. If it is zero, it just returns \"now\". Otherwise, the duration is expressed as a combination of years, days, hours, minutes and seconds.\n",
    "\n",
    "It is much easier to understand with an example:\n",
    "\n",
    "* For seconds = 62, your function should return \n",
    "    \"1 minute and 2 seconds\"\n",
    "* For seconds = 3662, your function should return\n",
    "    \"1 hour, 1 minute and 2 seconds\"\n",
    "For the purpose of this Kata, a year is 365 days and a day is 24 hours.\n",
    "\n",
    "Note that spaces are important.\n",
    "\n",
    "Detailed rules\n",
    "The resulting expression is made of components like 4 seconds, 1 year, etc. In general, a positive integer and one of the valid units of time, separated by a space. The unit of time is used in plural if the integer is greater than 1.\n",
    "\n",
    "The components are separated by a comma and a space (\", \"). Except the last component, which is separated by \" and \", just like it would be written in English.\n",
    "\n",
    "A more significant units of time will occur before than a least significant one. Therefore, 1 second and 1 year is not correct, but 1 year and 1 second is.\n",
    "\n",
    "Different components have different unit of times. So there is not repeated units like in 5 seconds and 1 second.\n",
    "\n",
    "A component will not appear at all if its value happens to be zero. Hence, 1 minute and 0 seconds is not valid, but it should be just 1 minute.\n",
    "\n",
    "A unit of time must be used \"as much as possible\". It means that the function should not return 61 seconds, but 1 minute and 1 second instead. Formally, the duration specified by of a component must not be greater than any valid more significant unit of time."
   ]
  },
  {
   "cell_type": "markdown",
   "id": "3e07609d",
   "metadata": {},
   "source": [
    " ## My Solution"
   ]
  },
  {
   "cell_type": "code",
   "execution_count": 1,
   "id": "01774879",
   "metadata": {},
   "outputs": [],
   "source": [
    "def format_duration(seconds):\n",
    "    import re\n",
    "    l = []\n",
    "    year, day = (86400 * 365), 86400\n",
    "    \n",
    "    if seconds // year > 0 :\n",
    "        l.append(' '.join([str(seconds // year), 'year']))\n",
    "    \n",
    "    if (seconds % year) // day > 0 :\n",
    "        l.append(' '.join([str(seconds % year // day), 'day']))\n",
    "    \n",
    "    if ((seconds %year) % day) // 3600 > 0 :\n",
    "        l.append(' '.join([str(((seconds %year) % day) // 3600), 'hour']))    \n",
    "    \n",
    "    if ((((seconds %year) % day) % 3600) // 60) > 0 :\n",
    "        l.append(' '.join([str(((((seconds %year) % day) % 3600) // 60)), 'minute']))\n",
    "     \n",
    "    if ((((seconds %year) % day) % 3600) % 60) > 0 :\n",
    "        l.append(' '.join([str(((((seconds %year) % day) % 3600) % 60)), 'second']))\n",
    "        \n",
    "    for i in range(len(l)) :\n",
    "        if int(re.search('(\\d+)', l[i])[0]) > 1 :\n",
    "            l[i] += 's'\n",
    "        \n",
    "            \n",
    "    if len(l) == 0 :\n",
    "        return 'now'\n",
    "    elif len(l) == 1 :\n",
    "        return l[0]\n",
    "    else :\n",
    "        l[-1] = ' and ' + l[-1]\n",
    "        return ', '.join([i for i in l[:-1]]) + l[-1]\n",
    "        "
   ]
  },
  {
   "cell_type": "markdown",
   "id": "6b7b8617",
   "metadata": {},
   "source": [
    "## Other Solutions i liked from other programmers"
   ]
  },
  {
   "cell_type": "code",
   "execution_count": 2,
   "id": "95fd0158",
   "metadata": {},
   "outputs": [],
   "source": [
    "def format_duration(seconds):\n",
    "    if seconds == 0: return \"now\"\n",
    "    units = ( (31536000, \"year\"  ), \n",
    "              (   86400, \"day\"   ),\n",
    "              (    3600, \"hour\"  ),\n",
    "              (      60, \"minute\"),\n",
    "              (       1, \"second\") )\n",
    "    ts, t = [], seconds\n",
    "    for unit in units:\n",
    "        u, t = divmod(t, unit[0])\n",
    "        ts += [\"{} {}{}\".format(u, unit[1], \"s\" if u>1 else \"\")] if u != 0 else []\n",
    "    return \", \".join([str(d)for d in ts[:-1]]) + (\" and \" if len(ts)>1 else \"\") + ts[-1]"
   ]
  },
  {
   "cell_type": "markdown",
   "id": "042ab257",
   "metadata": {},
   "source": [
    "## I learned \n",
    "\n",
    "divmod(10, 4)    ======> (quotient, remainder) =  (2,2)"
   ]
  }
 ],
 "metadata": {
  "kernelspec": {
   "display_name": "Python 3 (ipykernel)",
   "language": "python",
   "name": "python3"
  },
  "language_info": {
   "codemirror_mode": {
    "name": "ipython",
    "version": 3
   },
   "file_extension": ".py",
   "mimetype": "text/x-python",
   "name": "python",
   "nbconvert_exporter": "python",
   "pygments_lexer": "ipython3",
   "version": "3.8.12"
  },
  "toc": {
   "base_numbering": 1,
   "nav_menu": {},
   "number_sections": true,
   "sideBar": true,
   "skip_h1_title": false,
   "title_cell": "Table of Contents",
   "title_sidebar": "Contents",
   "toc_cell": false,
   "toc_position": {},
   "toc_section_display": true,
   "toc_window_display": false
  }
 },
 "nbformat": 4,
 "nbformat_minor": 5
}
