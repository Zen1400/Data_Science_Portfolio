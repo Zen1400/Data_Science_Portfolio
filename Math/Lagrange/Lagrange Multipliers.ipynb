{
 "cells": [
  {
   "cell_type": "markdown",
   "id": "3bb348b2",
   "metadata": {},
   "source": [
    "# Lagrange Multipliers"
   ]
  },
  {
   "cell_type": "markdown",
   "id": "2e4dae28",
   "metadata": {},
   "source": [
    "## Mxima and Minima\n",
    "\n",
    "\n",
    "- We see in the picture below that the tangent plane to the function is flat, meaning that you can't increase the function by going in any direction. So in this case  the slope of the tangent plane in each direction is equal to zero on this point which is in this case a  Mxima.\n",
    "\n",
    "- $Note$ : Having a flat plane is only one requirement and doesn't guarantee by itself having a  Maxima or a Minima. \n",
    " ***\n",
    " \n",
    "<img src=\"flat.png\" width=250 height=250 />                            "
   ]
  },
  {
   "cell_type": "markdown",
   "id": "d3a9e79e",
   "metadata": {},
   "source": [
    "- So to be able to tell if a point where the partial derivative is zero is a local Minima or local Maxima, we do the second derivative test, if the second derivative is positive(down concavity) means that the partial is increasing so it's a local Minima, but if the second derivative is negative(up concavity) means that the partial is decreasing so it's a local Maxima.\n",
    "\n",
    "<img src=\"second.png\" width=250 height=250 /> "
   ]
  },
  {
   "cell_type": "markdown",
   "id": "eac3fff7",
   "metadata": {},
   "source": [
    "## Second Derivative Test\n",
    "\n",
    "- If you find a point where the partial derivative $\\delta f(x_0, y_0) = 0$, to make sure whether it's local Minima, Maxima or a saddle point, you perform the second derivative test : $\\delta_(xx) f(x_0, y_0)*\\delta_(yy) f(x_0, y_0) - \\delta_(xy) f(x_0, y_0)^2$\n",
    "\n",
    "1) If you get a positive value it means that the point is whether a local Maxima or Minima and you can tell by looking at the second taken twice with respect to x or to y(Concavity).\n",
    "\n",
    "2) If the second test is negative then it's a Saddle Point.\n",
    "\n",
    "3)  If you get zero so you can't decide based on this test.\n"
   ]
  },
  {
   "cell_type": "markdown",
   "id": "2649cb41",
   "metadata": {},
   "source": [
    "## Optimization with Constraints \n",
    "\n",
    "* In the picture we see that the blue line(from contour plot) barely touches the circle, meaning that it is the maximum value f(x,y) can take while satisfying the constraint $x^2 + y^2 = 1$ \n",
    "\n",
    "<img src=\"const.png\" height=200 width=200 />"
   ]
  },
  {
   "cell_type": "markdown",
   "id": "cd1b1853",
   "metadata": {},
   "source": [
    "Because the gradient points in the direction of the steepest ascent so it will always be perpendicular to the contour line if it passes through it.\n",
    "\n",
    "\n",
    "<img src=\"gr.png\" height=200 width=200 />"
   ]
  },
  {
   "cell_type": "markdown",
   "id": "58dbb5ec",
   "metadata": {},
   "source": [
    "So the gradient of the function we want to maximize and the one of the constraint function both will be perpendicular to the  tangency point but not necessarily the same length because both are on the contour lines of their respective functions.\n",
    "\n",
    "So according to what have been said above :\n",
    "\n",
    "Let f be the function we want to maximize :     $f(x,y) = x^2y$\n",
    "The constraint function g :                              $g(x,y) = x^2 + y^2$\n",
    "Our constraint is :            $x^2 + y^2 = 1$\n",
    "\n",
    "Given that both functions gradients will be perpendicular on the tangency point $(x_m, y_m)$ so one of them is a multiple of the other\n",
    "\n",
    "$\\nabla f(x_m, y_m) = \\lambda \\nabla g(x_m, y_m) $      $\\space\\space\\space\\space\\space\\space$                       $\\lambda$ is Lagrange Multiplier\n",
    "\n",
    "**********\n",
    "$Finally$  To solve for our point we have 3 equations for 3 variables, the first two we get from the equality equation between the gradients and the third one is the constraint equation.\n",
    "\n",
    "$$\n",
    "[\\begin{array}{c}\n",
    "2xy\\\\\n",
    "x^2\n",
    "\\end{array}]\n",
    "=\n",
    "\\lambda [\\begin{array}{c}\n",
    "2x\\\\\n",
    "2y\n",
    "\\end{array}]\n",
    "$$"
   ]
  },
  {
   "cell_type": "markdown",
   "id": "31a0b67a",
   "metadata": {},
   "source": [
    "$\n",
    "1)\\space\\space     2xy = 2 \\lambda x\\\\\n",
    "2)\\space\\space     x^2 = 2 \\lambda y \\\\\n",
    "3)\\space\\space     x^2 + y^2 = 1 \\\\\n",
    "$\n",
    "\n",
    "We solve to find the point(x, y)"
   ]
  }
 ],
 "metadata": {
  "kernelspec": {
   "display_name": "Python 3 (ipykernel)",
   "language": "python",
   "name": "python3"
  },
  "language_info": {
   "codemirror_mode": {
    "name": "ipython",
    "version": 3
   },
   "file_extension": ".py",
   "mimetype": "text/x-python",
   "name": "python",
   "nbconvert_exporter": "python",
   "pygments_lexer": "ipython3",
   "version": "3.10.6"
  },
  "toc": {
   "base_numbering": 1,
   "nav_menu": {},
   "number_sections": false,
   "sideBar": true,
   "skip_h1_title": false,
   "title_cell": "Table of Contents",
   "title_sidebar": "Contents",
   "toc_cell": false,
   "toc_position": {
    "height": "calc(100% - 180px)",
    "left": "10px",
    "top": "150px",
    "width": "256px"
   },
   "toc_section_display": true,
   "toc_window_display": false
  }
 },
 "nbformat": 4,
 "nbformat_minor": 5
}
