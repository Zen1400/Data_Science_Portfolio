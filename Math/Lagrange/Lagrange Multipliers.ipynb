{
 "cells": [
  {
   "cell_type": "markdown",
   "id": "b5399ee3",
   "metadata": {},
   "source": [
    "# Lagrange Multipliers"
   ]
  },
  {
   "attachments": {},
   "cell_type": "markdown",
   "id": "4497b088",
   "metadata": {},
   "source": [
    "## Mxima and Minima\n",
    "\n",
    "\n",
    "- We see in the picture below that the tangent plane to the function is flat, meaning that you can't increase the function by going in any direction. So in this case  the slope of the tangent plane in each direction is equal to zero on this point which is in this case a  Mxima.\n",
    "\n",
    "- $Note$ : Having a flat plane is only one requirement and doesn't guarantee by itself having a  Maxima or a Minima. \n",
    " ***\n",
    " \n",
    "<img src=\"flat.png\" width=250 height=250 />                            "
   ]
  },
  {
   "cell_type": "markdown",
   "id": "3bed1d78",
   "metadata": {},
   "source": [
    "- So to be able to tell if a point where the partial derivative is zero is a local Minima or local Maxima, we do the second derivative test, if the second derivative is positive(down concavity) means that the partial is increasing so it's a local Minima, but if the second derivative is negative(up concavity) means that the partial is decreasing so it's a local Maxima.\n",
    "\n",
    "<img src=\"second.png\" width=250 height=250 /> "
   ]
  },
  {
   "cell_type": "markdown",
   "id": "5012579b",
   "metadata": {},
   "source": [
    "## Second Derivative Test\n",
    "\n",
    "- If you find a point where the partial derivative $\\delta f(x_0, y_0) = 0$, to make sure whether it's local Minima, Maxima or a saddle point, you perform the second derivative test : $\\delta_(xx) f(x_0, y_0)*\\delta_(yy) f(x_0, y_0) - \\delta_(xy) f(x_0, y_0)^2$\n",
    "\n",
    "1) If you get a positive value it means that the point is whether a local Maxima or Minima and you can tell by looking at the second taken twice with respect to x or to y(Concavity).\n",
    "\n",
    "2) If the second test is negative then it's a Saddle Point.\n",
    "\n",
    "3)  If you get zero so you can't decide based on this test.\n"
   ]
  }
 ],
 "metadata": {
  "kernelspec": {
   "display_name": "Python 3 (ipykernel)",
   "language": "python",
   "name": "python3"
  },
  "language_info": {
   "codemirror_mode": {
    "name": "ipython",
    "version": 3
   },
   "file_extension": ".py",
   "mimetype": "text/x-python",
   "name": "python",
   "nbconvert_exporter": "python",
   "pygments_lexer": "ipython3",
   "version": "3.8.12"
  },
  "toc": {
   "base_numbering": 1,
   "nav_menu": {},
   "number_sections": false,
   "sideBar": true,
   "skip_h1_title": false,
   "title_cell": "Table of Contents",
   "title_sidebar": "Contents",
   "toc_cell": false,
   "toc_position": {
    "height": "calc(100% - 180px)",
    "left": "10px",
    "top": "150px",
    "width": "256px"
   },
   "toc_section_display": true,
   "toc_window_display": false
  }
 },
 "nbformat": 4,
 "nbformat_minor": 5
}
