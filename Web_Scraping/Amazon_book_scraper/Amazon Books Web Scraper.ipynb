{
 "cells": [
  {
   "cell_type": "code",
   "execution_count": 30,
   "id": "f61ce4f0",
   "metadata": {},
   "outputs": [],
   "source": [
    "from selenium import webdriver\n",
    "from selenium.webdriver.common.keys import Keys\n",
    "from selenium.webdriver.common.by import By\n",
    "import pandas as pd\n",
    "from bs4 import BeautifulSoup\n",
    "import time\n",
    "import numpy as np\n",
    "import os\n",
    "from selenium.webdriver.chrome.service import Service\n",
    "from selenium.webdriver.chrome.options import Options\n",
    "import matplotlib.pyplot as plt\n",
    "import seaborn as sns"
   ]
  },
  {
   "cell_type": "markdown",
   "id": "2087f40a",
   "metadata": {},
   "source": [
    "## Create necessary functions that will generate URLs and parse a soup object"
   ]
  },
  {
   "cell_type": "code",
   "execution_count": 23,
   "id": "f4b2b61a",
   "metadata": {},
   "outputs": [],
   "source": [
    "# Define a function that generates URLs based on the search word and the number of pages\n",
    "\n",
    "def get_url(search, pages) :\n",
    "    '''\n",
    "    Takes a name of a book then returns a a list of urls based on the number of pages\n",
    "    '''\n",
    "    template = \"https://www.amazon.fr/s?k={}&page={}&__mk_fr_FR=%C3%85M%C3%85%C5%BD%C3%95%C3%91&crid=29N2UO9ZQ991H&sprefix=python+books%2Caps%2C252&ref=nb_sb_noss\"\n",
    "    \n",
    "    # To deal with multiple words search \n",
    "    search = search.replace(' ', '+')\n",
    "    \n",
    "    urls = []\n",
    "    \n",
    "    for page in range(1, pages + 1) :\n",
    "        \n",
    "        urls.append(template.format(search, page))\n",
    "    \n",
    "    \n",
    "    return urls"
   ]
  },
  {
   "cell_type": "code",
   "execution_count": 8,
   "id": "181c8f63",
   "metadata": {},
   "outputs": [],
   "source": [
    "# Takes a soup object then returns a data frame\n",
    "\n",
    "def build_df(main) :\n",
    "    \"\"\"\n",
    "    Build a DataFrame of books and their info\n",
    "    \"\"\"\n",
    "    \n",
    "    \n",
    "    books = {'name' : [], 'author' : [], 'rating': [], 'price': [], 'reviews_count' : [], 'url': []}\n",
    "\n",
    "    for book in range(len(main)) :\n",
    "        try :\n",
    "            books['name'].append(main[book].h2.a.text)\n",
    "        except :\n",
    "            books['name'].append(np.NAN)\n",
    "\n",
    "        try :\n",
    "            books['author'].append(main[book].find('div', {'class': 'a-row'}).text)\n",
    "        except :\n",
    "            books['author'].append(np.NAN)    \n",
    "\n",
    "        try :\n",
    "            books['rating'].append(main[book].find('i', {'class': 'a-icon'}).text.split()[0])\n",
    "        except :\n",
    "            books['rating'].append(np.NAN)  \n",
    "\n",
    "        try :\n",
    "            books['price'].append(main[book].find('span', {'class': 'a-price-whole'}).text)\n",
    "        except :\n",
    "            books['price'].append(np.NAN)    \n",
    "\n",
    "        try :\n",
    "            books['url'].append('https://www.amazon.com' + main[book].h2.a.get('href'))\n",
    "        except :\n",
    "            books['url'].append(np.NAN)\n",
    "\n",
    "        try :\n",
    "            books['reviews_count'].append(main[book].find('span', 'a-size-base s-underline-text').text)\n",
    "        except :\n",
    "            books['reviews_count'].append(np.NAN)\n",
    "            \n",
    "    df = pd.DataFrame(books)\n",
    "    \n",
    "    return df"
   ]
  },
  {
   "cell_type": "markdown",
   "id": "fcbb6e9d",
   "metadata": {},
   "source": [
    "## Code the main function that takes search words and number of pages then returns a data frame that contains (name, price, rating, review_counts, url) of every book"
   ]
  },
  {
   "cell_type": "code",
   "execution_count": 18,
   "id": "a15d0eea",
   "metadata": {},
   "outputs": [],
   "source": [
    "def main(search, pages) :\n",
    "    \"\"\"\n",
    "    Create a data frame of books from several pages(maximum 7)\n",
    "    \"\"\"\n",
    "    # Intitialize the WebDriver\n",
    "    chrome_options = Options()\n",
    "    chrome_options.add_argument(\"--headless\") # Ensure GUI is off\n",
    "    chrome_options.add_argument(\"--no-sandbox\")\n",
    "\n",
    "    homedir = os.path.expanduser(\"~\")\n",
    "    webdriver_service = Service(f\"{homedir}/chromedriver/stable/chromedriver\")\n",
    "\n",
    "    # Choose Chrome Browser\n",
    "    browser = webdriver.Chrome(service=webdriver_service, options=chrome_options)\n",
    "\n",
    "    \n",
    "    # Get URLs\n",
    "    \n",
    "    urls = get_url(search, pages)\n",
    "    \n",
    "    # Create the first DataFrame from the first page\n",
    "    \n",
    "    browser.get(urls[0])\n",
    "    soup = BeautifulSoup(browser.page_source, 'html.parser')\n",
    "    main = soup.find_all('div', {'class':'sg-col-4-of-12'})\n",
    "    df = build_df(main)\n",
    "    \n",
    "    # Merge all DataFrames from all pages\n",
    "    \n",
    "    for page in range(1, pages) :\n",
    "        browser.get(urls[page])\n",
    "        time.sleep(3)\n",
    "        soup = BeautifulSoup(browser.page_source, 'html.parser')\n",
    "        main = soup.find_all('div', {'class':'sg-col-4-of-12'})\n",
    "        df_1 = build_df(main)\n",
    "        df = pd.merge(df, df_1, how = 'outer')\n",
    "    \n",
    "    return df"
   ]
  },
  {
   "cell_type": "markdown",
   "id": "2859b55d",
   "metadata": {},
   "source": [
    "## Running main function to get a data frame that contains SQL books"
   ]
  },
  {
   "cell_type": "code",
   "execution_count": 24,
   "id": "d03c2f0d",
   "metadata": {},
   "outputs": [],
   "source": [
    "df = main(\"sql books\", 2)"
   ]
  },
  {
   "cell_type": "code",
   "execution_count": 26,
   "id": "5fdedc1a",
   "metadata": {},
   "outputs": [
    {
     "data": {
      "text/html": [
       "<div>\n",
       "<style scoped>\n",
       "    .dataframe tbody tr th:only-of-type {\n",
       "        vertical-align: middle;\n",
       "    }\n",
       "\n",
       "    .dataframe tbody tr th {\n",
       "        vertical-align: top;\n",
       "    }\n",
       "\n",
       "    .dataframe thead th {\n",
       "        text-align: right;\n",
       "    }\n",
       "</style>\n",
       "<table border=\"1\" class=\"dataframe\">\n",
       "  <thead>\n",
       "    <tr style=\"text-align: right;\">\n",
       "      <th></th>\n",
       "      <th>name</th>\n",
       "      <th>author</th>\n",
       "      <th>rating</th>\n",
       "      <th>price</th>\n",
       "      <th>reviews_count</th>\n",
       "      <th>url</th>\n",
       "    </tr>\n",
       "  </thead>\n",
       "  <tbody>\n",
       "    <tr>\n",
       "      <th>0</th>\n",
       "      <td>Practical SQL: A Beginner's Guide to Storytell...</td>\n",
       "      <td>Édition en Anglaisde Anthony DeBarros</td>\n",
       "      <td>4,6</td>\n",
       "      <td>41,93</td>\n",
       "      <td>247</td>\n",
       "      <td>https://www.amazon.com/Practical-SQL-Beginners...</td>\n",
       "    </tr>\n",
       "    <tr>\n",
       "      <th>1</th>\n",
       "      <td>SQL: Tips and Tricks to Learn SQL Programming ...</td>\n",
       "      <td>Édition en Anglaisde Daniel Jones</td>\n",
       "      <td>4,6</td>\n",
       "      <td>NaN</td>\n",
       "      <td>3</td>\n",
       "      <td>https://www.amazon.com/SQL-Programming-quickly...</td>\n",
       "    </tr>\n",
       "    <tr>\n",
       "      <th>2</th>\n",
       "      <td>SQL Server Execution Plans: Third Edition</td>\n",
       "      <td>Édition en Anglaisde Grant Fritchey</td>\n",
       "      <td>4,7</td>\n",
       "      <td>24,38</td>\n",
       "      <td>36</td>\n",
       "      <td>https://www.amazon.com/SQL-Server-Execution-Pl...</td>\n",
       "    </tr>\n",
       "    <tr>\n",
       "      <th>3</th>\n",
       "      <td>SQL: This book includes : Learn SQL Basics for...</td>\n",
       "      <td>Édition en Anglaisde Andy Vickler</td>\n",
       "      <td>3,0</td>\n",
       "      <td>44,64</td>\n",
       "      <td>2</td>\n",
       "      <td>https://www.amazon.com/SQL-beginners-Advanced-...</td>\n",
       "    </tr>\n",
       "    <tr>\n",
       "      <th>4</th>\n",
       "      <td>SQL: 3 books 1 - The Ultimate Beginner, Interm...</td>\n",
       "      <td>Édition en Anglaisde Mark Reed</td>\n",
       "      <td>4,9</td>\n",
       "      <td>NaN</td>\n",
       "      <td>160</td>\n",
       "      <td>https://www.amazon.com/SQL-Intermediate-Progra...</td>\n",
       "    </tr>\n",
       "  </tbody>\n",
       "</table>\n",
       "</div>"
      ],
      "text/plain": [
       "                                                name  \\\n",
       "0  Practical SQL: A Beginner's Guide to Storytell...   \n",
       "1  SQL: Tips and Tricks to Learn SQL Programming ...   \n",
       "2         SQL Server Execution Plans: Third Edition    \n",
       "3  SQL: This book includes : Learn SQL Basics for...   \n",
       "4  SQL: 3 books 1 - The Ultimate Beginner, Interm...   \n",
       "\n",
       "                                   author rating  price reviews_count  \\\n",
       "0  Édition en Anglaisde Anthony DeBarros     4,6  41,93           247   \n",
       "1      Édition en Anglaisde Daniel Jones     4,6    NaN             3   \n",
       "2    Édition en Anglaisde Grant Fritchey     4,7  24,38            36   \n",
       "3       Édition en Anglaisde Andy Vickler    3,0  44,64             2   \n",
       "4         Édition en Anglaisde Mark Reed     4,9    NaN           160   \n",
       "\n",
       "                                                 url  \n",
       "0  https://www.amazon.com/Practical-SQL-Beginners...  \n",
       "1  https://www.amazon.com/SQL-Programming-quickly...  \n",
       "2  https://www.amazon.com/SQL-Server-Execution-Pl...  \n",
       "3  https://www.amazon.com/SQL-beginners-Advanced-...  \n",
       "4  https://www.amazon.com/SQL-Intermediate-Progra...  "
      ]
     },
     "execution_count": 26,
     "metadata": {},
     "output_type": "execute_result"
    }
   ],
   "source": [
    "df.head()"
   ]
  },
  {
   "cell_type": "markdown",
   "id": "5d1d4e7b",
   "metadata": {},
   "source": [
    "## Clean the data frame and convert values to the right data types to enable some data visualizations"
   ]
  },
  {
   "cell_type": "code",
   "execution_count": 27,
   "id": "11997fd1",
   "metadata": {},
   "outputs": [],
   "source": [
    "# Drop null values\n",
    "\n",
    "df.dropna(axis = 0, how = 'any', inplace = True)\n",
    "\n",
    "# Create a function to transform strings into floats\n",
    "\n",
    "def to_float(row) :\n",
    "\n",
    "    row.rating = row.rating.replace(',', '.')\n",
    "    row.rating = float(row.rating)\n",
    "    \n",
    "    row.reviews_count = row.reviews_count.replace('\\xa0', '')\n",
    "    row.reviews_count = int(row.reviews_count)\n",
    "    \n",
    "    row.price = row.price.replace(',', '.')\n",
    "    row.price = float(row.price)\n",
    "    \n",
    "    return row\n",
    "\n",
    "# Clean the data frame\n",
    "\n",
    "df.apply(to_float, axis = 1)"
   ]
  },
  {
   "cell_type": "markdown",
   "id": "cad601bd",
   "metadata": {},
   "source": [
    "## See the distributions of price and ratings"
   ]
  },
  {
   "cell_type": "code",
   "execution_count": 32,
   "id": "1fa32092",
   "metadata": {},
   "outputs": [
    {
     "name": "stderr",
     "output_type": "stream",
     "text": [
      "/home/zein/.pyenv/versions/3.8.12/envs/lewagon/lib/python3.8/site-packages/seaborn/distributions.py:2619: FutureWarning: `distplot` is a deprecated function and will be removed in a future version. Please adapt your code to use either `displot` (a figure-level function with similar flexibility) or `histplot` (an axes-level function for histograms).\n",
      "  warnings.warn(msg, FutureWarning)\n"
     ]
    },
    {
     "data": {
      "image/png": "[encoded data removed]",
      "text/plain": [
       "<Figure size 432x288 with 1 Axes>"
      ]
     },
     "metadata": {
      "needs_background": "light"
     },
     "output_type": "display_data"
    }
   ],
   "source": [
    "# Price distribution\n",
    "\n",
    "sns.distplot(df.price, bins = np.arange(0,71,5))\n",
    "plt.xticks(np.arange(0,71,5));"
   ]
  },
  {
   "cell_type": "code",
   "execution_count": 34,
   "id": "543db7ec",
   "metadata": {},
   "outputs": [
    {
     "name": "stderr",
     "output_type": "stream",
     "text": [
      "/home/zein/.pyenv/versions/3.8.12/envs/lewagon/lib/python3.8/site-packages/seaborn/distributions.py:2619: FutureWarning: `distplot` is a deprecated function and will be removed in a future version. Please adapt your code to use either `displot` (a figure-level function with similar flexibility) or `histplot` (an axes-level function for histograms).\n",
      "  warnings.warn(msg, FutureWarning)\n"
     ]
    },
    {
     "data": {
      "image/png": "[encoded data removed]",
      "text/plain": [
       "<Figure size 432x288 with 1 Axes>"
      ]
     },
     "metadata": {
      "needs_background": "light"
     },
     "output_type": "display_data"
    }
   ],
   "source": [
    "# Rating distribution\n",
    "\n",
    "sns.distplot(df.rating)\n",
    "plt.xticks(np.arange(0, 5.1, 0.5));"
   ]
  },
  {
   "cell_type": "code",
   "execution_count": null,
   "id": "cae06a4e",
   "metadata": {},
   "outputs": [],
   "source": []
  }
 ],
 "metadata": {
  "kernelspec": {
   "display_name": "Python 3 (ipykernel)",
   "language": "python",
   "name": "python3"
  },
  "language_info": {
   "codemirror_mode": {
    "name": "ipython",
    "version": 3
   },
   "file_extension": ".py",
   "mimetype": "text/x-python",
   "name": "python",
   "nbconvert_exporter": "python",
   "pygments_lexer": "ipython3",
   "version": "3.8.12"
  },
  "toc": {
   "base_numbering": 1,
   "nav_menu": {},
   "number_sections": true,
   "sideBar": true,
   "skip_h1_title": false,
   "title_cell": "Table of Contents",
   "title_sidebar": "Contents",
   "toc_cell": false,
   "toc_position": {},
   "toc_section_display": true,
   "toc_window_display": false
  }
 },
 "nbformat": 4,
 "nbformat_minor": 5
}
